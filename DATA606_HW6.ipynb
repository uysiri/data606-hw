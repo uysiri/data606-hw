{
 "cells": [
  {
   "cell_type": "code",
   "execution_count": 1,
   "metadata": {
    "id": "TsqAqjjfYelt",
    "tags": []
   },
   "outputs": [],
   "source": [
    "import pandas as pd\n",
    "import numpy as np\n",
    "import pandas as pd\n",
    "import matplotlib.pyplot as plt\n",
    "import arviz as az\n",
    "from sklearn.linear_model import LogisticRegression\n",
    "import pymc3 as pm"
   ]
  },
  {
   "cell_type": "markdown",
   "metadata": {
    "id": "WjI4d1X21kUb"
   },
   "source": [
    "## The Dataset\n",
    "\n",
    "You can download the dataset from here: https://www.kaggle.com/datasets/uciml/pima-indians-diabetes-database"
   ]
  },
  {
   "cell_type": "code",
   "execution_count": 2,
   "metadata": {
    "id": "R-NmkziT12EI",
    "tags": []
   },
   "outputs": [
    {
     "data": {
      "text/html": [
       "<div>\n",
       "<style scoped>\n",
       "    .dataframe tbody tr th:only-of-type {\n",
       "        vertical-align: middle;\n",
       "    }\n",
       "\n",
       "    .dataframe tbody tr th {\n",
       "        vertical-align: top;\n",
       "    }\n",
       "\n",
       "    .dataframe thead th {\n",
       "        text-align: right;\n",
       "    }\n",
       "</style>\n",
       "<table border=\"1\" class=\"dataframe\">\n",
       "  <thead>\n",
       "    <tr style=\"text-align: right;\">\n",
       "      <th></th>\n",
       "      <th>Pregnancies</th>\n",
       "      <th>Glucose</th>\n",
       "      <th>BloodPressure</th>\n",
       "      <th>SkinThickness</th>\n",
       "      <th>Insulin</th>\n",
       "      <th>BMI</th>\n",
       "      <th>DiabetesPedigreeFunction</th>\n",
       "      <th>Age</th>\n",
       "      <th>Outcome</th>\n",
       "    </tr>\n",
       "  </thead>\n",
       "  <tbody>\n",
       "    <tr>\n",
       "      <th>0</th>\n",
       "      <td>6</td>\n",
       "      <td>148</td>\n",
       "      <td>72</td>\n",
       "      <td>35</td>\n",
       "      <td>0</td>\n",
       "      <td>33.6</td>\n",
       "      <td>0.627</td>\n",
       "      <td>50</td>\n",
       "      <td>1</td>\n",
       "    </tr>\n",
       "    <tr>\n",
       "      <th>1</th>\n",
       "      <td>1</td>\n",
       "      <td>85</td>\n",
       "      <td>66</td>\n",
       "      <td>29</td>\n",
       "      <td>0</td>\n",
       "      <td>26.6</td>\n",
       "      <td>0.351</td>\n",
       "      <td>31</td>\n",
       "      <td>0</td>\n",
       "    </tr>\n",
       "    <tr>\n",
       "      <th>2</th>\n",
       "      <td>8</td>\n",
       "      <td>183</td>\n",
       "      <td>64</td>\n",
       "      <td>0</td>\n",
       "      <td>0</td>\n",
       "      <td>23.3</td>\n",
       "      <td>0.672</td>\n",
       "      <td>32</td>\n",
       "      <td>1</td>\n",
       "    </tr>\n",
       "    <tr>\n",
       "      <th>3</th>\n",
       "      <td>1</td>\n",
       "      <td>89</td>\n",
       "      <td>66</td>\n",
       "      <td>23</td>\n",
       "      <td>94</td>\n",
       "      <td>28.1</td>\n",
       "      <td>0.167</td>\n",
       "      <td>21</td>\n",
       "      <td>0</td>\n",
       "    </tr>\n",
       "    <tr>\n",
       "      <th>4</th>\n",
       "      <td>0</td>\n",
       "      <td>137</td>\n",
       "      <td>40</td>\n",
       "      <td>35</td>\n",
       "      <td>168</td>\n",
       "      <td>43.1</td>\n",
       "      <td>2.288</td>\n",
       "      <td>33</td>\n",
       "      <td>1</td>\n",
       "    </tr>\n",
       "  </tbody>\n",
       "</table>\n",
       "</div>"
      ],
      "text/plain": [
       "   Pregnancies  Glucose  BloodPressure  SkinThickness  Insulin   BMI  \\\n",
       "0            6      148             72             35        0  33.6   \n",
       "1            1       85             66             29        0  26.6   \n",
       "2            8      183             64              0        0  23.3   \n",
       "3            1       89             66             23       94  28.1   \n",
       "4            0      137             40             35      168  43.1   \n",
       "\n",
       "   DiabetesPedigreeFunction  Age  Outcome  \n",
       "0                     0.627   50        1  \n",
       "1                     0.351   31        0  \n",
       "2                     0.672   32        1  \n",
       "3                     0.167   21        0  \n",
       "4                     2.288   33        1  "
      ]
     },
     "execution_count": 2,
     "metadata": {},
     "output_type": "execute_result"
    }
   ],
   "source": [
    "## 1 point\n",
    "\n",
    "## ToDo: read the csv file into a dataframe and show the first 5 rows\n",
    "\n",
    "df = pd.read_csv(\"diabetes.csv\")\n",
    "df.head(5)"
   ]
  },
  {
   "cell_type": "code",
   "execution_count": 5,
   "metadata": {
    "id": "wqiy_MHL2Cqi",
    "tags": []
   },
   "outputs": [
    {
     "name": "stdout",
     "output_type": "stream",
     "text": [
      "Coefficients: [[ 1.22491822e-01  3.51096146e-02 -1.32995672e-02  7.79317558e-04\n",
      "  -1.17368659e-03  8.96526256e-02  8.67762988e-01  1.49853251e-02]]\n",
      "Intercept: [-8.36497424]\n"
     ]
    }
   ],
   "source": [
    "## 3 points\n",
    "\n",
    "## Assign the Outcome variable to y and the rest to X.\n",
    "X = df.drop(columns='Outcome', axis=1) \n",
    "y = df.Outcome.values\n",
    "\n",
    "## USe LogisticRegression to fit the data and print out the intercept and the coefficients\n",
    "lr = LogisticRegression(max_iter=200).fit(X,y)\n",
    "print(f'Coefficients: {lr.coef_}')\n",
    "print(f'Intercept: {lr.intercept_}')"
   ]
  },
  {
   "cell_type": "code",
   "execution_count": 11,
   "metadata": {
    "id": "uX08XT0yY71T",
    "tags": []
   },
   "outputs": [
    {
     "data": {
      "text/html": [
       "\n",
       "<style>\n",
       "    /* Turns off some styling */\n",
       "    progress {\n",
       "        /* gets rid of default border in Firefox and Opera. */\n",
       "        border: none;\n",
       "        /* Needs to be in here for Safari polyfill so background images work as expected. */\n",
       "        background-size: auto;\n",
       "    }\n",
       "    progress:not([value]), progress:not([value])::-webkit-progress-bar {\n",
       "        background: repeating-linear-gradient(45deg, #7e7e7e, #7e7e7e 10px, #5c5c5c 10px, #5c5c5c 20px);\n",
       "    }\n",
       "    .progress-bar-interrupted, .progress-bar-interrupted::-webkit-progress-bar {\n",
       "        background: #F44336;\n",
       "    }\n",
       "</style>\n"
      ],
      "text/plain": [
       "<IPython.core.display.HTML object>"
      ]
     },
     "metadata": {},
     "output_type": "display_data"
    },
    {
     "data": {
      "text/html": [
       "\n",
       "    <div>\n",
       "      <progress value='145' class='' max='145' style='width:300px; height:20px; vertical-align: middle;'></progress>\n",
       "      100.00% [145/145 00:01&lt;00:00 logp = -411.44, ||grad|| = 3.037]\n",
       "    </div>\n",
       "    "
      ],
      "text/plain": [
       "<IPython.core.display.HTML object>"
      ]
     },
     "metadata": {},
     "output_type": "display_data"
    },
    {
     "name": "stdout",
     "output_type": "stream",
     "text": [
      "\n",
      "{'w0': array(-8.40551187), 'w1': array(0.12313362), 'w2': array(0.03516778), 'w3': array(-0.01329601), 'w4': array(0.00063435), 'w5': array(-0.00119184), 'w6': array(0.08967333), 'w7': array(0.94522755), 'w8': array(0.01490092)}\n",
      "Explain what the code is doing:\n",
      "The code creates a log regression model with PyMC3 to estimate the probability of the binary outcome variable 'Outcome' based on the linear combination of predictor variables. According to the code, we assume the prior probabilities to be normally distributed with mean = 0 and standard deviation = 100. The linear combination of predictor variables sum(prior * variable) is defined as linreg. Since linreg can take on the value of any real number, the code applies pm.invlogit() to transform linreg to a probability scale between 0 and 1 in order to estimate the probability of 'Outcome'. Since 'Outcome' is binary, the code uses Bernoulli likelihood distribution and the transformed linreg (p_outcome) to obtain the likelihood. The result is saved as 'likelihood'. The pm.find_MAP() function is called to find the Maximum a Posteriori points of the posterior which are the point estimates of the regression coefficients that maximize posterior probability. The result is saved as 'map_est' and printed out at the end of the code.\n",
      "Prior Probabilities:\n",
      "mean (mu): 0\n",
      "standard deviation (sd): 100\n",
      "Which likelihood distribution has been used?\n",
      "The Bernoulli likelihood distribution is used to estimate the probability of 'Outcome' based on the predictor variables.\n",
      "What does pm.invlogit(linreg) mean?\n",
      "The pm.invlogit() function applies the inverse of a logit function for the linear predictor to take a probability value between 0 and 1.\n",
      "What is map_est?\n",
      "map_est contains the estimated MAP points of the posterior distribution which are the point estimates of the regression coefficients that maximize posterior probability.\n"
     ]
    }
   ],
   "source": [
    "## 2 points\n",
    "\n",
    "## Explain what the code is doing:\n",
    "## What are the prior probabilities of the intercept and coefficients?\n",
    "# Which likelihood distribution has been used?\n",
    "## What does pm.invlogit(linreg) mean?\n",
    "## What is map_est?\n",
    "\n",
    "with pm.Model() as logreg_model:\n",
    "  \n",
    "    w0 = pm.Normal('w0', mu=0, sd=100)\n",
    "    w1 = pm.Normal('w1', mu=0, sd=100)\n",
    "    w2 = pm.Normal('w2', mu=0, sd=100)\n",
    "    w3 = pm.Normal('w3', mu=0, sd=100)\n",
    "    w4 = pm.Normal('w4', mu=0, sd=100)\n",
    "    w5 = pm.Normal('w5', mu=0, sd=100)\n",
    "    w6 = pm.Normal('w6', mu=0, sd=100)\n",
    "    w7 = pm.Normal('w7', mu=0, sd=100)\n",
    "    w8 = pm.Normal('w8', mu=0, sd=100)\n",
    "   \n",
    "    \n",
    "    linreg = w0 * np.ones(df.shape[0]) + w1 * df.Pregnancies.values + w2 * df.Glucose.values \\\n",
    "    + w3 * df.BloodPressure.values + w4 * df.SkinThickness.values + w5 * df.Insulin.values + \\\n",
    "    w6 * df.BMI.values + w7 * df.DiabetesPedigreeFunction.values + w8 * df.Age.values\n",
    "    p_outcome = pm.invlogit(linreg)\n",
    "\n",
    "    likelihood = pm.Bernoulli('likelihood', p_outcome, observed=df.Outcome.values)\n",
    "\n",
    "    \n",
    "    map_est= pm.find_MAP()\n",
    "    print(map_est)\n",
    "\n",
    "print(\"Explain what the code is doing:\")\n",
    "print(\"The code creates a log regression model with PyMC3 to estimate the probability of the binary outcome variable 'Outcome' based on the linear combination of predictor variables. According to the code, we assume the prior probabilities to be normally distributed with mean = 0 and standard deviation = 100. The linear combination of predictor variables sum(prior * variable) is defined as linreg. Since linreg can take on the value of any real number, the code applies pm.invlogit() to transform linreg to a probability scale between 0 and 1 in order to estimate the probability of 'Outcome'. Since 'Outcome' is binary, the code uses Bernoulli likelihood distribution and the transformed linreg (p_outcome) to obtain the likelihood. The result is saved as 'likelihood'. The pm.find_MAP() function is called to find the Maximum a Posteriori points of the posterior which are the point estimates of the regression coefficients that maximize posterior probability. The result is saved as 'map_est' and printed out at the end of the code.\")\n",
    "print(\"Prior Probabilities:\")\n",
    "print(\"mean (mu): 0\")\n",
    "print(\"standard deviation (sd): 100\")\n",
    "print(\"Which likelihood distribution has been used?\")\n",
    "print(\"The Bernoulli likelihood distribution is used to estimate the probability of 'Outcome' based on the predictor variables.\")\n",
    "print(\"What does pm.invlogit(linreg) mean?\")\n",
    "print(\"The pm.invlogit() function applies the inverse of a logit function for the linear predictor to take a probability value between 0 and 1.\")\n",
    "print(\"What is map_est?\")\n",
    "print(\"map_est contains the estimated MAP points of the posterior distribution which are the point estimates of the regression coefficients that maximize posterior probability.\")"
   ]
  },
  {
   "cell_type": "code",
   "execution_count": 18,
   "metadata": {
    "tags": []
   },
   "outputs": [
    {
     "name": "stdout",
     "output_type": "stream",
     "text": [
      "Collecting scipy==1.7.3\n",
      "  Using cached scipy-1.7.3-cp39-cp39-macosx_10_9_x86_64.whl (33.2 MB)\n",
      "Collecting numpy<1.23.0,>=1.16.5\n",
      "  Using cached numpy-1.22.4-cp39-cp39-macosx_10_15_x86_64.whl (17.7 MB)\n",
      "Installing collected packages: numpy, scipy\n",
      "  Attempting uninstall: numpy\n",
      "    Found existing installation: numpy 1.22.1\n",
      "    Uninstalling numpy-1.22.1:\n",
      "      Successfully uninstalled numpy-1.22.1\n",
      "  Attempting uninstall: scipy\n",
      "    Found existing installation: scipy 1.10.1\n",
      "    Uninstalling scipy-1.10.1:\n",
      "      Successfully uninstalled scipy-1.10.1\n",
      "\u001b[31mERROR: pip's dependency resolver does not currently take into account all the packages that are installed. This behaviour is the source of the following dependency conflicts.\n",
      "pymc3 3.11.5 requires numpy<1.22.2,>=1.15.0, but you have numpy 1.22.4 which is incompatible.\n",
      "arviz 0.15.1 requires scipy>=1.8.0, but you have scipy 1.7.3 which is incompatible.\u001b[0m\u001b[31m\n",
      "\u001b[0mSuccessfully installed numpy-1.22.4 scipy-1.7.3\n",
      "Note: you may need to restart the kernel to use updated packages.\n"
     ]
    }
   ],
   "source": [
    "pip install scipy==1.7.3 --force-reinstall"
   ]
  },
  {
   "cell_type": "code",
   "execution_count": 16,
   "metadata": {
    "tags": []
   },
   "outputs": [
    {
     "name": "stdout",
     "output_type": "stream",
     "text": [
      "Requirement already satisfied: arviz in /Users/irisyu/opt/anaconda3/lib/python3.9/site-packages (0.15.0)\n",
      "Collecting arviz\n",
      "  Downloading arviz-0.15.1-py3-none-any.whl (1.6 MB)\n",
      "\u001b[2K     \u001b[90m━━━━━━━━━━━━━━━━━━━━━━━━━━━━━━━━━━━━━━━━\u001b[0m \u001b[32m1.6/1.6 MB\u001b[0m \u001b[31m2.1 MB/s\u001b[0m eta \u001b[36m0:00:00\u001b[0m00:01\u001b[0m00:01\u001b[0m0m\n",
      "\u001b[?25hRequirement already satisfied: packaging in /Users/irisyu/opt/anaconda3/lib/python3.9/site-packages (from arviz) (21.3)\n",
      "Requirement already satisfied: xarray>=0.21.0 in /Users/irisyu/opt/anaconda3/lib/python3.9/site-packages (from arviz) (2023.2.0)\n",
      "Requirement already satisfied: scipy>=1.8.0 in /Users/irisyu/opt/anaconda3/lib/python3.9/site-packages (from arviz) (1.10.1)\n",
      "Requirement already satisfied: h5netcdf>=1.0.2 in /Users/irisyu/opt/anaconda3/lib/python3.9/site-packages (from arviz) (1.1.0)\n",
      "Requirement already satisfied: numpy>=1.20.0 in /Users/irisyu/opt/anaconda3/lib/python3.9/site-packages (from arviz) (1.22.1)\n",
      "Requirement already satisfied: setuptools>=60.0.0 in /Users/irisyu/opt/anaconda3/lib/python3.9/site-packages (from arviz) (65.5.0)\n",
      "Requirement already satisfied: pandas>=1.3.0 in /Users/irisyu/opt/anaconda3/lib/python3.9/site-packages (from arviz) (1.4.3)\n",
      "Requirement already satisfied: matplotlib>=3.2 in /Users/irisyu/opt/anaconda3/lib/python3.9/site-packages (from arviz) (3.5.3)\n",
      "Requirement already satisfied: xarray-einstats>=0.3 in /Users/irisyu/opt/anaconda3/lib/python3.9/site-packages (from arviz) (0.5.1)\n",
      "Requirement already satisfied: typing-extensions>=4.1.0 in /Users/irisyu/opt/anaconda3/lib/python3.9/site-packages (from arviz) (4.3.0)\n",
      "Requirement already satisfied: h5py in /Users/irisyu/opt/anaconda3/lib/python3.9/site-packages (from h5netcdf>=1.0.2->arviz) (3.7.0)\n",
      "Requirement already satisfied: pyparsing>=2.2.1 in /Users/irisyu/opt/anaconda3/lib/python3.9/site-packages (from matplotlib>=3.2->arviz) (3.0.9)\n",
      "Requirement already satisfied: pillow>=6.2.0 in /Users/irisyu/opt/anaconda3/lib/python3.9/site-packages (from matplotlib>=3.2->arviz) (9.2.0)\n",
      "Requirement already satisfied: cycler>=0.10 in /Users/irisyu/opt/anaconda3/lib/python3.9/site-packages (from matplotlib>=3.2->arviz) (0.11.0)\n",
      "Requirement already satisfied: python-dateutil>=2.7 in /Users/irisyu/opt/anaconda3/lib/python3.9/site-packages (from matplotlib>=3.2->arviz) (2.8.2)\n",
      "Requirement already satisfied: fonttools>=4.22.0 in /Users/irisyu/opt/anaconda3/lib/python3.9/site-packages (from matplotlib>=3.2->arviz) (4.25.0)\n",
      "Requirement already satisfied: kiwisolver>=1.0.1 in /Users/irisyu/opt/anaconda3/lib/python3.9/site-packages (from matplotlib>=3.2->arviz) (1.4.2)\n",
      "Requirement already satisfied: pytz>=2020.1 in /Users/irisyu/opt/anaconda3/lib/python3.9/site-packages (from pandas>=1.3.0->arviz) (2022.1)\n",
      "Requirement already satisfied: six>=1.5 in /Users/irisyu/opt/anaconda3/lib/python3.9/site-packages (from python-dateutil>=2.7->matplotlib>=3.2->arviz) (1.16.0)\n",
      "Installing collected packages: arviz\n",
      "  Attempting uninstall: arviz\n",
      "    Found existing installation: arviz 0.15.0\n",
      "    Uninstalling arviz-0.15.0:\n",
      "      Successfully uninstalled arviz-0.15.0\n",
      "\u001b[31mERROR: pip's dependency resolver does not currently take into account all the packages that are installed. This behaviour is the source of the following dependency conflicts.\n",
      "pymc3 3.11.5 requires scipy<1.8.0,>=1.7.3, but you have scipy 1.10.1 which is incompatible.\u001b[0m\u001b[31m\n",
      "\u001b[0mSuccessfully installed arviz-0.15.1\n",
      "Note: you may need to restart the kernel to use updated packages.\n"
     ]
    }
   ],
   "source": [
    "pip install --upgrade arviz"
   ]
  },
  {
   "cell_type": "code",
   "execution_count": 19,
   "metadata": {
    "id": "md1O1OgXyQk3",
    "tags": []
   },
   "outputs": [
    {
     "name": "stderr",
     "output_type": "stream",
     "text": [
      "Only 400 samples in chain.\n",
      "Multiprocess sampling (2 chains in 2 jobs)\n",
      "CompoundStep\n",
      ">Metropolis: [w8]\n",
      ">Metropolis: [w7]\n",
      ">Metropolis: [w6]\n",
      ">Metropolis: [w5]\n",
      ">Metropolis: [w4]\n",
      ">Metropolis: [w3]\n",
      ">Metropolis: [w2]\n",
      ">Metropolis: [w1]\n",
      ">Metropolis: [w0]\n"
     ]
    },
    {
     "data": {
      "text/html": [
       "\n",
       "<style>\n",
       "    /* Turns off some styling */\n",
       "    progress {\n",
       "        /* gets rid of default border in Firefox and Opera. */\n",
       "        border: none;\n",
       "        /* Needs to be in here for Safari polyfill so background images work as expected. */\n",
       "        background-size: auto;\n",
       "    }\n",
       "    progress:not([value]), progress:not([value])::-webkit-progress-bar {\n",
       "        background: repeating-linear-gradient(45deg, #7e7e7e, #7e7e7e 10px, #5c5c5c 10px, #5c5c5c 20px);\n",
       "    }\n",
       "    .progress-bar-interrupted, .progress-bar-interrupted::-webkit-progress-bar {\n",
       "        background: #F44336;\n",
       "    }\n",
       "</style>\n"
      ],
      "text/plain": [
       "<IPython.core.display.HTML object>"
      ]
     },
     "metadata": {},
     "output_type": "display_data"
    },
    {
     "data": {
      "text/html": [
       "\n",
       "    <div>\n",
       "      <progress value='1000' class='' max='1000' style='width:300px; height:20px; vertical-align: middle;'></progress>\n",
       "      100.00% [1000/1000 00:22&lt;00:00 Sampling 2 chains, 0 divergences]\n",
       "    </div>\n",
       "    "
      ],
      "text/plain": [
       "<IPython.core.display.HTML object>"
      ]
     },
     "metadata": {},
     "output_type": "display_data"
    },
    {
     "name": "stderr",
     "output_type": "stream",
     "text": [
      "Sampling 2 chains for 100 tune and 400 draw iterations (200 + 800 draws total) took 60 seconds.\n"
     ]
    },
    {
     "ename": "AttributeError",
     "evalue": "module 'arviz' has no attribute 'from_pymc3'",
     "output_type": "error",
     "traceback": [
      "\u001b[0;31m---------------------------------------------------------------------------\u001b[0m",
      "\u001b[0;31mAttributeError\u001b[0m                            Traceback (most recent call last)",
      "Cell \u001b[0;32mIn [19], line 5\u001b[0m\n\u001b[1;32m      1\u001b[0m \u001b[38;5;66;03m## 2 points\u001b[39;00m\n\u001b[1;32m      3\u001b[0m \u001b[38;5;28;01mwith\u001b[39;00m logreg_model:\n\u001b[1;32m      4\u001b[0m \u001b[38;5;66;03m## ToDo: draw 400 samples using pm.Metropolis() and assign to the variable trace\u001b[39;00m\n\u001b[0;32m----> 5\u001b[0m     trace \u001b[38;5;241m=\u001b[39m \u001b[43mpm\u001b[49m\u001b[38;5;241;43m.\u001b[39;49m\u001b[43msample\u001b[49m\u001b[43m(\u001b[49m\u001b[38;5;241;43m400\u001b[39;49m\u001b[43m,\u001b[49m\u001b[43m \u001b[49m\u001b[43mtune\u001b[49m\u001b[38;5;241;43m=\u001b[39;49m\u001b[38;5;241;43m100\u001b[39;49m\u001b[43m,\u001b[49m\u001b[43m \u001b[49m\u001b[43mstep\u001b[49m\u001b[38;5;241;43m=\u001b[39;49m\u001b[43mpm\u001b[49m\u001b[38;5;241;43m.\u001b[39;49m\u001b[43mMetropolis\u001b[49m\u001b[43m(\u001b[49m\u001b[43m)\u001b[49m\u001b[43m,\u001b[49m\u001b[43m \u001b[49m\u001b[43mreturn_inferencedata\u001b[49m\u001b[38;5;241;43m=\u001b[39;49m\u001b[38;5;28;43;01mFalse\u001b[39;49;00m\u001b[43m)\u001b[49m\n\u001b[1;32m      7\u001b[0m \u001b[38;5;66;03m# encountered error:  module 'arviz' has no attribute 'from_pymc3'\u001b[39;00m\n\u001b[1;32m      8\u001b[0m \u001b[38;5;66;03m# cannot plot MultiTrace object :( \u001b[39;00m\n\u001b[1;32m      9\u001b[0m trace_transformed \u001b[38;5;241m=\u001b[39m az\u001b[38;5;241m.\u001b[39mconvert_to_inference_data(trace)\n",
      "File \u001b[0;32m~/opt/anaconda3/lib/python3.9/site-packages/deprecat/classic.py:215\u001b[0m, in \u001b[0;36mdeprecat.<locals>.wrapper_function\u001b[0;34m(wrapped_, instance_, args_, kwargs_)\u001b[0m\n\u001b[1;32m    213\u001b[0m         \u001b[38;5;28;01melse\u001b[39;00m:\n\u001b[1;32m    214\u001b[0m             warnings\u001b[38;5;241m.\u001b[39mwarn(message, category\u001b[38;5;241m=\u001b[39mcategory, stacklevel\u001b[38;5;241m=\u001b[39m_routine_stacklevel)\n\u001b[0;32m--> 215\u001b[0m \u001b[38;5;28;01mreturn\u001b[39;00m \u001b[43mwrapped_\u001b[49m\u001b[43m(\u001b[49m\u001b[38;5;241;43m*\u001b[39;49m\u001b[43margs_\u001b[49m\u001b[43m,\u001b[49m\u001b[43m \u001b[49m\u001b[38;5;241;43m*\u001b[39;49m\u001b[38;5;241;43m*\u001b[39;49m\u001b[43mkwargs_\u001b[49m\u001b[43m)\u001b[49m\n",
      "File \u001b[0;32m~/opt/anaconda3/lib/python3.9/site-packages/pymc3/sampling.py:655\u001b[0m, in \u001b[0;36msample\u001b[0;34m(draws, step, init, n_init, initvals, trace, chain_idx, chains, cores, tune, progressbar, model, random_seed, discard_tuned_samples, compute_convergence_checks, callback, jitter_max_retries, start, return_inferencedata, idata_kwargs, mp_ctx, pickle_backend, **kwargs)\u001b[0m\n\u001b[1;32m    653\u001b[0m     \u001b[38;5;28;01mif\u001b[39;00m idata_kwargs:\n\u001b[1;32m    654\u001b[0m         ikwargs\u001b[38;5;241m.\u001b[39mupdate(idata_kwargs)\n\u001b[0;32m--> 655\u001b[0m     idata \u001b[38;5;241m=\u001b[39m \u001b[43marviz\u001b[49m\u001b[38;5;241;43m.\u001b[39;49m\u001b[43mfrom_pymc3\u001b[49m(trace, \u001b[38;5;241m*\u001b[39m\u001b[38;5;241m*\u001b[39mikwargs)\n\u001b[1;32m    657\u001b[0m \u001b[38;5;28;01mif\u001b[39;00m compute_convergence_checks:\n\u001b[1;32m    658\u001b[0m     \u001b[38;5;28;01mif\u001b[39;00m draws \u001b[38;5;241m-\u001b[39m tune \u001b[38;5;241m<\u001b[39m \u001b[38;5;241m100\u001b[39m:\n",
      "\u001b[0;31mAttributeError\u001b[0m: module 'arviz' has no attribute 'from_pymc3'"
     ]
    }
   ],
   "source": [
    "## 2 points\n",
    "\n",
    "with logreg_model:\n",
    "## ToDo: draw 400 samples using pm.Metropolis() and assign to the variable trace\n",
    "    trace = pm.sample(400, tune=100, step=pm.Metropolis(), return_inferencedata=False)\n",
    "\n",
    "# encountered error:  module 'arviz' has no attribute 'from_pymc3'\n",
    "# cannot plot MultiTrace object :( \n",
    "trace_transformed = az.convert_to_inference_data(trace)\n",
    "## Explain the output of the plot \n",
    "az.plot_posterior(trace_transformed)"
   ]
  }
 ],
 "metadata": {
  "colab": {
   "name": "DATA606_HW6.ipynb",
   "provenance": []
  },
  "kernelspec": {
   "display_name": "Python 3 (ipykernel)",
   "language": "python",
   "name": "python3"
  },
  "language_info": {
   "codemirror_mode": {
    "name": "ipython",
    "version": 3
   },
   "file_extension": ".py",
   "mimetype": "text/x-python",
   "name": "python",
   "nbconvert_exporter": "python",
   "pygments_lexer": "ipython3",
   "version": "3.9.15"
  }
 },
 "nbformat": 4,
 "nbformat_minor": 4
}
